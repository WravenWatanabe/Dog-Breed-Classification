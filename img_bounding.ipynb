{
 "cells": [
  {
   "cell_type": "code",
   "execution_count": 1,
   "id": "1b252bf1",
   "metadata": {
    "scrolled": true
   },
   "outputs": [],
   "source": [
    "import cv2\n",
    "import os\n",
    "import numpy as np\n",
    "\n",
    "# Set project_folder to the current working directory\n",
    "project_folder = os.getcwd()\n",
    "\n",
    "image_size = 300  # resize images \n",
    "\n",
    "def extract_bounding_box(annotation_file):\n",
    "    tree = ET.parse(annotation_file)\n",
    "    root = tree.getroot()\n",
    "    bndbox = root.find('.//bndbox')\n",
    "    xmin = int(bndbox.find('xmin').text)\n",
    "    ymin = int(bndbox.find('ymin').text)\n",
    "    xmax = int(bndbox.find('xmax').text)\n",
    "    ymax = int(bndbox.find('ymax').text)\n",
    "    return xmin, ymin, xmax, ymax\n",
    "\n",
    "def load_and_preprocess_image(image_path, annotation_path):\n",
    "    xmin, ymin, xmax, ymax = extract_bounding_box(annotation_path)\n",
    "    image = cv2.imread(image_path)\n",
    "    cropped_image = image[ymin:ymax, xmin:xmax]\n",
    "    resized_image = cv2.resize(cropped_image, (image_size, image_size))\n",
    "    return resized_image.flatten()  # Flatten the image to a 1D arrayb"
   ]
  },
  {
   "cell_type": "code",
   "execution_count": null,
   "id": "19ba557d",
   "metadata": {},
   "outputs": [],
   "source": [
    "def prepare_dataset(images_folder, annotations_folder):\n",
    "    X = []  # Feature vectors\n",
    "    y = []  # Labels\n",
    "    \n",
    "    breed_labels = [d for d in os.listdir(images_folder) if os.path.isdir(os.path.join(images_folder, d))]\n",
    "    \n",
    "    for breed in breed_labels:\n",
    "        breed_images_folder = os.path.join(images_folder, breed)\n",
    "        breed_annotations_folder = os.path.join(annotations_folder, breed)\n",
    "        \n",
    "        for image_file in os.listdir(breed_images_folder):\n",
    "            if image_file.startswith('.'):  # Skip hidden files like .DS_Store\n",
    "                continue\n",
    "            \n",
    "            image_path = os.path.join(breed_images_folder, image_file)\n",
    "            base_filename = os.path.splitext(image_file)[0]\n",
    "            annotation_file_path = os.path.join(breed_annotations_folder, base_filename)  # No extension for annotation file\n",
    "            \n",
    "            if os.path.isfile(annotation_file_path):\n",
    "                processed_image = load_and_preprocess_image(image_path, annotation_file_path)\n",
    "                if processed_image is not None:\n",
    "                    X.append(processed_image)\n",
    "                    y.append(breed)\n",
    "            else:\n",
    "                print(f\"Annotation file does not exist for {image_file}\")\n",
    "    \n",
    "    return np.array(X), np.array(y)\n",
    "\n",
    "\n",
    "# Construct the paths to the 'images' and 'annotations' folders\n",
    "images_folder = os.path.join(project_folder, 'archive', 'images', 'Images')\n",
    "annotations_folder = os.path.join(project_folder, 'archive', 'annotations', 'Annotation')"
   ]
  }
 ],
 "metadata": {
  "kernelspec": {
   "display_name": "Python 3 (ipykernel)",
   "language": "python",
   "name": "python3"
  },
  "language_info": {
   "codemirror_mode": {
    "name": "ipython",
    "version": 3
   },
   "file_extension": ".py",
   "mimetype": "text/x-python",
   "name": "python",
   "nbconvert_exporter": "python",
   "pygments_lexer": "ipython3",
   "version": "3.11.5"
  }
 },
 "nbformat": 4,
 "nbformat_minor": 5
}
